{
 "cells":[
  {
   "cell_type":"code",
   "source":[
    "import sqlite3\n",
    "import pandas as pd"
   ],
   "execution_count":8,
   "outputs":[
    
   ],
   "metadata":{
    "datalore":{
     "node_id":"YRmH77F8NpbjqX6ESiYqMB",
     "type":"CODE",
     "hide_input_from_viewers":true,
     "hide_output_from_viewers":true
    }
   }
  },
  {
   "cell_type":"code",
   "source":[
    "class DBManager:\n",
    "\n",
    "    def __init__(self):\n",
    "        self.db_name = \"task2.db\"\n",
    "        self.conn, self.cursor = self.connect_to_db()\n",
    "        self.df_pizza_types, self.df_pizzas, self.df_orders, self.df_order_details = self.create_df()\n",
    "\n",
    "    def connect_to_db(self):\n",
    "        conn = sqlite3.connect(self.db_name)\n",
    "        cursor = conn.cursor()\n",
    "        return conn, cursor\n",
    "    \n",
    "    @staticmethod\n",
    "    def create_df():\n",
    "        return pd.read_csv('pizza_types.csv', encoding='windows-1251'), pd.read_csv('pizzas.csv',  encoding='windows-1251'), pd.read_csv('orders.csv',  encoding='windows-1251'), pd.read_csv('order_details.csv',  encoding='windows-1251')\n",
    "\n",
    "    def create_db(self):\n",
    "        self.df_pizza_types.to_sql('Pizza_types', self.conn, if_exists='replace', index=False)\n",
    "        self.df_pizzas.to_sql('Pizzas', self.conn, if_exists='replace', index=False)\n",
    "        self.df_orders.to_sql('Orders', self.conn, if_exists='replace', index=False)\n",
    "        self.df_order_details.to_sql('Order_details', self.conn, if_exists='replace', index=False)\n",
    "\n",
    "        self.conn.commit()\n",
    "\n",
    "    def t3(self):\n",
    "        self.df_orders['time'] = pd.to_datetime(self.df_orders['time'])\n",
    "        self.df_orders['hour'] = self.df_orders['time'].dt.hour\n",
    "        return self.df_orders.groupby('hour')['order_id'].count().reset_index().sort_values(by='order_id', ascending = False)\n",
    "\n",
    "    def t4(self):\n",
    "        self.df_orders['date'] = pd.to_datetime(self.df_orders['date'])\n",
    "        self.df_orders['month'] = self.df_orders['date'].dt.month\n",
    "        seasons = {1: 'зима', 2: 'зима', 3: 'весна', 4: 'весна', 5: 'весна', 6: 'літо', 7: 'літо', 8: 'літо', 9: 'осінь', 10: 'осінь', 11: 'осінь', 12: 'зима'}\n",
    "        self.df_orders['season'] = self.df_orders['month'].map(seasons)\n",
    "        return self.df_orders.groupby('season')['order_id'].count().reset_index().sort_values(by='order_id', ascending = False)\n",
    "    \n",
    "    def t5(self):\n",
    "        result = pd.merge(self.df_order_details, self.df_pizzas, on='pizza_id', how='left')\n",
    "        result['sum'] = result['quantity']*result['price']\n",
    "        return result.groupby('pizza_id')['sum'].sum().reset_index().sort_values(by='sum', ascending = True)\n",
    "    \n",
    "    def t6(self):\n",
    "        self.cursor.execute(\"\"\"\n",
    "                WITH count_by_day AS\n",
    "                    (SELECT \n",
    "                        Date, \n",
    "                        COUNT(*) AS OrdersCount\n",
    "                    FROM \n",
    "                        Orders\n",
    "                    GROUP BY \n",
    "                        Date)\n",
    "\n",
    "                SELECT \n",
    "                    ROUND(AVG(OrdersCount))\n",
    "                FROM \n",
    "                    count_by_day\n",
    "                \"\"\")\n",
    "        \n",
    "        orders_by_date = self.cursor.fetchall()\n",
    "        for row in orders_by_date:\n",
    "            print(row[0])\n",
    "\n",
    "    def t7(self):\n",
    "        self.cursor.execute(\"\"\"\n",
    "                WITH count_pizza AS(\n",
    "                    SELECT\n",
    "                        o.order_id,\n",
    "                        strftime('%m', date),\n",
    "                        SUM(quantity) AS sum_pizza\n",
    "                    FROM\n",
    "                        Order_details od\n",
    "                        LEFT JOIN Orders o ON od.order_id = o.order_id\n",
    "                    WHERE\n",
    "                        strftime('%m', date) = '09' \n",
    "                        or strftime('%m', date) = '10'\n",
    "                        or strftime('%m', date) = '11'\n",
    "                    GROUP BY\n",
    "                        o.order_id\n",
    "                )\n",
    "                SELECT \n",
    "                    ROUND(AVG(sum_pizza))\n",
    "                FROM \n",
    "                    count_pizza\n",
    "                \"\"\")\n",
    "        \n",
    "        orders_by_date = self.cursor.fetchall()\n",
    "        for row in orders_by_date:\n",
    "            print(row[0])\n",
    "\n",
    "    def t8(self):\n",
    "        self.cursor.execute(\"\"\"\n",
    "                WITH top3 AS (\n",
    "                SELECT \n",
    "                    pizza_id\n",
    "                FROM \n",
    "                    Order_details od\n",
    "                    LEFT JOIN Orders o ON od.order_id = o.order_id\n",
    "                WHERE \n",
    "                    strftime('%m', date) = '06'\n",
    "                GROUP BY\n",
    "                    pizza_id\n",
    "                ORDER BY\n",
    "                    SUM(quantity) DESC\n",
    "                LIMIT\n",
    "                    3\n",
    "                )\n",
    "                SELECT\n",
    "                    ROUND(SUM(quantity*price))\n",
    "                FROM \n",
    "                    Order_details od\n",
    "                    LEFT JOIN Orders o ON od.order_id = o.order_id\n",
    "                    LEFT JOIN Pizzas p ON od.pizza_id = p.pizza_id\n",
    "                WHERE \n",
    "                    strftime('%m', date) = '06'\n",
    "                    AND\n",
    "                    p.pizza_id IN (SELECT * FROM top3)\n",
    "                \"\"\")\n",
    "        \n",
    "        orders_by_date = self.cursor.fetchall()\n",
    "        for row in orders_by_date:\n",
    "            print(row[0])\n",
    "\n",
    "    def t9(self):\n",
    "        self.cursor.execute(\"\"\"\n",
    "                SELECT\n",
    "                    category,\n",
    "                    size,\n",
    "                    COUNT(DISTINCT order_id) AS count_orders,\n",
    "                    SUM(quantity) AS count_pizzas\n",
    "                FROM\n",
    "                    Order_details od\n",
    "                    LEFT JOIN Pizzas p ON od.pizza_id = p.pizza_id\n",
    "                    LEFT JOIN Pizza_types pt ON p.pizza_type_id = pt.pizza_type_id\n",
    "                GROUP BY\n",
    "                    category,\n",
    "                    size\n",
    "                \"\"\")\n",
    "        \n",
    "        orders_by_date = self.cursor.fetchall()\n",
    "        for row in orders_by_date:\n",
    "            print(row)\n",
    "\n",
    "\n",
    "   "
   ],
   "execution_count":37,
   "outputs":[
    
   ],
   "metadata":{
    "datalore":{
     "node_id":"Dv2j4HHAN67SrmdFHDF8KZ",
     "type":"CODE",
     "hide_input_from_viewers":true,
     "hide_output_from_viewers":true
    }
   }
  },
  {
   "cell_type":"code",
   "source":[
    "manager = DBManager()"
   ],
   "execution_count":38,
   "outputs":[
    
   ],
   "metadata":{
    "datalore":{
     "node_id":"DjXGF9iydoYB43f1MT3mtI",
     "type":"CODE",
     "hide_input_from_viewers":true,
     "hide_output_from_viewers":true
    }
   }
  },
  {
   "cell_type":"code",
   "source":[
    "manager.create_db()"
   ],
   "execution_count":15,
   "outputs":[
    
   ],
   "metadata":{
    "datalore":{
     "node_id":"DZE2ak6UeZVSZcGsBrHWUm",
     "type":"CODE",
     "hide_input_from_viewers":true,
     "hide_output_from_viewers":true
    }
   }
  },
  {
   "cell_type":"code",
   "source":[
    "manager.t3()"
   ],
   "execution_count":39,
   "outputs":[
    {
     "data":{
      "text\/html":[
       "<div>\n",
       "<style scoped>\n",
       "    .dataframe tbody tr th:only-of-type {\n",
       "        vertical-align: middle;\n",
       "    }\n",
       "\n",
       "    .dataframe tbody tr th {\n",
       "        vertical-align: top;\n",
       "    }\n",
       "\n",
       "    .dataframe thead th {\n",
       "        text-align: right;\n",
       "    }\n",
       "<\/style>\n",
       "<table border=\"1\" class=\"dataframe\">\n",
       "  <thead>\n",
       "    <tr style=\"text-align: right;\">\n",
       "      <th><\/th>\n",
       "      <th>hour<\/th>\n",
       "      <th>order_id<\/th>\n",
       "    <\/tr>\n",
       "  <\/thead>\n",
       "  <tbody>\n",
       "    <tr>\n",
       "      <th>3<\/th>\n",
       "      <td>12<\/td>\n",
       "      <td>2520<\/td>\n",
       "    <\/tr>\n",
       "    <tr>\n",
       "      <th>4<\/th>\n",
       "      <td>13<\/td>\n",
       "      <td>2455<\/td>\n",
       "    <\/tr>\n",
       "    <tr>\n",
       "      <th>9<\/th>\n",
       "      <td>18<\/td>\n",
       "      <td>2399<\/td>\n",
       "    <\/tr>\n",
       "    <tr>\n",
       "      <th>8<\/th>\n",
       "      <td>17<\/td>\n",
       "      <td>2336<\/td>\n",
       "    <\/tr>\n",
       "    <tr>\n",
       "      <th>10<\/th>\n",
       "      <td>19<\/td>\n",
       "      <td>2009<\/td>\n",
       "    <\/tr>\n",
       "    <tr>\n",
       "      <th>7<\/th>\n",
       "      <td>16<\/td>\n",
       "      <td>1920<\/td>\n",
       "    <\/tr>\n",
       "    <tr>\n",
       "      <th>11<\/th>\n",
       "      <td>20<\/td>\n",
       "      <td>1642<\/td>\n",
       "    <\/tr>\n",
       "    <tr>\n",
       "      <th>5<\/th>\n",
       "      <td>14<\/td>\n",
       "      <td>1472<\/td>\n",
       "    <\/tr>\n",
       "    <tr>\n",
       "      <th>6<\/th>\n",
       "      <td>15<\/td>\n",
       "      <td>1468<\/td>\n",
       "    <\/tr>\n",
       "    <tr>\n",
       "      <th>2<\/th>\n",
       "      <td>11<\/td>\n",
       "      <td>1231<\/td>\n",
       "    <\/tr>\n",
       "    <tr>\n",
       "      <th>12<\/th>\n",
       "      <td>21<\/td>\n",
       "      <td>1198<\/td>\n",
       "    <\/tr>\n",
       "    <tr>\n",
       "      <th>13<\/th>\n",
       "      <td>22<\/td>\n",
       "      <td>663<\/td>\n",
       "    <\/tr>\n",
       "    <tr>\n",
       "      <th>14<\/th>\n",
       "      <td>23<\/td>\n",
       "      <td>28<\/td>\n",
       "    <\/tr>\n",
       "    <tr>\n",
       "      <th>1<\/th>\n",
       "      <td>10<\/td>\n",
       "      <td>8<\/td>\n",
       "    <\/tr>\n",
       "    <tr>\n",
       "      <th>0<\/th>\n",
       "      <td>9<\/td>\n",
       "      <td>1<\/td>\n",
       "    <\/tr>\n",
       "  <\/tbody>\n",
       "<\/table>\n",
       "<\/div>"
      ]
     },
     "metadata":{
      
     },
     "output_type":"display_data"
    }
   ],
   "metadata":{
    "datalore":{
     "node_id":"xHeCdYQjEOSi7niuCsSi4S",
     "type":"CODE",
     "hide_input_from_viewers":true,
     "hide_output_from_viewers":true
    }
   }
  },
  {
   "cell_type":"code",
   "source":[
    "manager.t4()"
   ],
   "execution_count":40,
   "outputs":[
    {
     "data":{
      "text\/html":[
       "<div>\n",
       "<style scoped>\n",
       "    .dataframe tbody tr th:only-of-type {\n",
       "        vertical-align: middle;\n",
       "    }\n",
       "\n",
       "    .dataframe tbody tr th {\n",
       "        vertical-align: top;\n",
       "    }\n",
       "\n",
       "    .dataframe thead th {\n",
       "        text-align: right;\n",
       "    }\n",
       "<\/style>\n",
       "<table border=\"1\" class=\"dataframe\">\n",
       "  <thead>\n",
       "    <tr style=\"text-align: right;\">\n",
       "      <th><\/th>\n",
       "      <th>season<\/th>\n",
       "      <th>order_id<\/th>\n",
       "    <\/tr>\n",
       "  <\/thead>\n",
       "  <tbody>\n",
       "    <tr>\n",
       "      <th>2<\/th>\n",
       "      <td>літо<\/td>\n",
       "      <td>5549<\/td>\n",
       "    <\/tr>\n",
       "    <tr>\n",
       "      <th>0<\/th>\n",
       "      <td>весна<\/td>\n",
       "      <td>5492<\/td>\n",
       "    <\/tr>\n",
       "    <tr>\n",
       "      <th>1<\/th>\n",
       "      <td>зима<\/td>\n",
       "      <td>5210<\/td>\n",
       "    <\/tr>\n",
       "    <tr>\n",
       "      <th>3<\/th>\n",
       "      <td>осінь<\/td>\n",
       "      <td>5099<\/td>\n",
       "    <\/tr>\n",
       "  <\/tbody>\n",
       "<\/table>\n",
       "<\/div>"
      ]
     },
     "metadata":{
      
     },
     "output_type":"display_data"
    }
   ],
   "metadata":{
    "datalore":{
     "node_id":"MJKsVxexfcmU6Ga3BTEirK",
     "type":"CODE",
     "hide_input_from_viewers":true,
     "hide_output_from_viewers":true
    }
   }
  },
  {
   "cell_type":"code",
   "source":[
    "manager.t5()"
   ],
   "execution_count":41,
   "outputs":[
    {
     "data":{
      "text\/html":[
       "<div>\n",
       "<style scoped>\n",
       "    .dataframe tbody tr th:only-of-type {\n",
       "        vertical-align: middle;\n",
       "    }\n",
       "\n",
       "    .dataframe tbody tr th {\n",
       "        vertical-align: top;\n",
       "    }\n",
       "\n",
       "    .dataframe thead th {\n",
       "        text-align: right;\n",
       "    }\n",
       "<\/style>\n",
       "<table border=\"1\" class=\"dataframe\">\n",
       "  <thead>\n",
       "    <tr style=\"text-align: right;\">\n",
       "      <th><\/th>\n",
       "      <th>pizza_id<\/th>\n",
       "      <th>sum<\/th>\n",
       "    <\/tr>\n",
       "  <\/thead>\n",
       "  <tbody>\n",
       "    <tr>\n",
       "      <th>87<\/th>\n",
       "      <td>the_greek_xxl<\/td>\n",
       "      <td>1006.60<\/td>\n",
       "    <\/tr>\n",
       "    <tr>\n",
       "      <th>7<\/th>\n",
       "      <td>calabrese_s<\/td>\n",
       "      <td>1212.75<\/td>\n",
       "    <\/tr>\n",
       "    <tr>\n",
       "      <th>13<\/th>\n",
       "      <td>ckn_alfredo_s<\/td>\n",
       "      <td>1224.00<\/td>\n",
       "    <\/tr>\n",
       "    <tr>\n",
       "      <th>23<\/th>\n",
       "      <td>green_garden_l<\/td>\n",
       "      <td>1923.75<\/td>\n",
       "    <\/tr>\n",
       "    <tr>\n",
       "      <th>43<\/th>\n",
       "      <td>mexicana_s<\/td>\n",
       "      <td>1944.00<\/td>\n",
       "    <\/tr>\n",
       "    <tr>\n",
       "      <th>...<\/th>\n",
       "      <td>...<\/td>\n",
       "      <td>...<\/td>\n",
       "    <\/tr>\n",
       "    <tr>\n",
       "      <th>3<\/th>\n",
       "      <td>big_meat_s<\/td>\n",
       "      <td>22968.00<\/td>\n",
       "    <\/tr>\n",
       "    <tr>\n",
       "      <th>68<\/th>\n",
       "      <td>spicy_ital_l<\/td>\n",
       "      <td>23011.75<\/td>\n",
       "    <\/tr>\n",
       "    <tr>\n",
       "      <th>21<\/th>\n",
       "      <td>four_cheese_l<\/td>\n",
       "      <td>23622.20<\/td>\n",
       "    <\/tr>\n",
       "    <tr>\n",
       "      <th>20<\/th>\n",
       "      <td>five_cheese_l<\/td>\n",
       "      <td>26066.50<\/td>\n",
       "    <\/tr>\n",
       "    <tr>\n",
       "      <th>80<\/th>\n",
       "      <td>thai_ckn_l<\/td>\n",
       "      <td>29257.50<\/td>\n",
       "    <\/tr>\n",
       "  <\/tbody>\n",
       "<\/table>\n",
       "<p>91 rows × 2 columns<\/p>\n",
       "<\/div>"
      ]
     },
     "metadata":{
      
     },
     "output_type":"display_data"
    }
   ],
   "metadata":{
    "datalore":{
     "node_id":"oioBXOuDeR2Ar2etM49QwH",
     "type":"CODE",
     "hide_input_from_viewers":true,
     "hide_output_from_viewers":true
    }
   }
  },
  {
   "cell_type":"code",
   "source":[
    "manager.t6()"
   ],
   "execution_count":33,
   "outputs":[
    {
     "name":"stdout",
     "text":[
      "60.0\n"
     ],
     "output_type":"stream"
    }
   ],
   "metadata":{
    "datalore":{
     "node_id":"fav34DBDKXDiL8IZeoU96G",
     "type":"CODE",
     "hide_input_from_viewers":true,
     "hide_output_from_viewers":true
    }
   }
  },
  {
   "cell_type":"code",
   "source":[
    "manager.t7()"
   ],
   "execution_count":34,
   "outputs":[
    {
     "name":"stdout",
     "text":[
      "2.0\n"
     ],
     "output_type":"stream"
    }
   ],
   "metadata":{
    "datalore":{
     "node_id":"XrdubsCzSJTCMbIZdbOYCV",
     "type":"CODE",
     "hide_input_from_viewers":true,
     "hide_output_from_viewers":true
    }
   }
  },
  {
   "cell_type":"code",
   "source":[
    "manager.t8()"
   ],
   "execution_count":35,
   "outputs":[
    {
     "name":"stdout",
     "text":[
      "6411.0\n"
     ],
     "output_type":"stream"
    }
   ],
   "metadata":{
    "datalore":{
     "node_id":"wqEZeSH1EkTqas1Ix8iwHg",
     "type":"CODE",
     "hide_input_from_viewers":true,
     "hide_output_from_viewers":true
    }
   }
  },
  {
   "cell_type":"code",
   "source":[
    "manager.t9()"
   ],
   "execution_count":36,
   "outputs":[
    {
     "name":"stdout",
     "text":[
      "('Chicken', 'L', 4350, 4932)\n",
      "('Chicken', 'M', 3521, 3894)\n",
      "('Chicken', 'S', 2099, 2224)\n",
      "('Classic', 'L', 3662, 4057)\n",
      "('Classic', 'M', 3709, 4112)\n",
      "('Classic', 'S', 5300, 6139)\n",
      "('Classic', 'XL', 544, 552)\n",
      "('Classic', 'XXL', 28, 28)\n",
      "('Supreme', 'L', 4055, 4564)\n",
      "('Supreme', 'M', 3641, 4046)\n",
      "('Supreme', 'S', 3065, 3377)\n",
      "('Veggie', 'L', 4722, 5403)\n",
      "('Veggie', 'M', 3270, 3583)\n",
      "('Veggie', 'S', 2485, 2663)\n"
     ],
     "output_type":"stream"
    }
   ],
   "metadata":{
    "datalore":{
     "node_id":"CQ53Toor6tO4dTsgxsrs1b",
     "type":"CODE",
     "hide_input_from_viewers":true,
     "hide_output_from_viewers":true
    }
   }
  }
 ],
 "metadata":{
  "kernelspec":{
   "display_name":"Python",
   "language":"python",
   "name":"python"
  },
  "datalore":{
   "computation_mode":"JUPYTER",
   "package_manager":"pip",
   "base_environment":"default",
   "packages":[
    
   ],
   "report_row_ids":[
    
   ],
   "version":3
  }
 },
 "nbformat":4,
 "nbformat_minor":4
}